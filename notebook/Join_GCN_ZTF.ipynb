{
 "cells": [
  {
   "cell_type": "code",
   "execution_count": 1,
   "metadata": {},
   "outputs": [],
   "source": [
    "from fink_mm.ztf_join_gcn import ztf_grb_filter\n",
    "from fink_utils.science.utils import ang2pix\n",
    "from pyspark.sql import functions as F\n",
    "from pyspark.sql.functions import explode, col, pandas_udf\n",
    "from fink_mm.utils.fun_utils import get_pixels\n",
    "\n",
    "from fink_mm.ztf_join_gcn import remove_skymap\n",
    "\n",
    "import numpy as np\n",
    "import pandas as pd\n",
    "import os\n",
    "import io\n",
    "from pyarrow import fs\n",
    "\n",
    "import pyspark.sql.functions as F\n",
    "from pyspark.sql import DataFrame\n",
    "\n",
    "from pyspark.sql.functions import pandas_udf\n",
    "from pyspark.sql.types import DoubleType, ArrayType, IntegerType\n",
    "\n",
    "from fink_filters.classification import extract_fink_classification\n",
    "from fink_utils.spark.utils import concat_col\n",
    "\n",
    "from fink_mm.observatory import obsname_to_class, INSTR_FORMAT\n",
    "from fink_mm.observatory.observatory import Observatory\n",
    "from fink_mm.gcn_stream.gcn_reader import load_voevent_from_file, load_json_from_file\n",
    "from fink_mm.init import init_logging\n",
    "from enum import Enum\n",
    "\n",
    "from fink_mm.utils.fun_utils import compute_rate, format_rate_results, get_association_proba, get_observatory\n",
    "from fink_utils.spark.partitioning import convert_to_datetime\n",
    "\n",
    "from fink_filters.filter_mm_module.filter import (\n",
    "    f_grb_bronze_events,\n",
    "    f_grb_silver_events,\n",
    "    f_grb_gold_events,\n",
    "    f_gw_bronze_events,\n",
    ")"
   ]
  },
  {
   "cell_type": "code",
   "execution_count": 2,
   "metadata": {},
   "outputs": [],
   "source": [
    "# gcn_path = \"/user/julien.peloton/fink_mm/gcn_storage\"\n",
    "month = \"06\"\n",
    "gcn_path = \"gcn_storage_fix\"\n",
    "\n",
    "gcn_alert = (\n",
    "    spark.read.format(\"parquet\")\n",
    "    .option(\"mergeSchema\", True)\n",
    "    .load(gcn_path + \"/year=2023/\")\n",
    "    .drop(\"year\").drop(\"month\").drop(\"day\")\n",
    ")\n",
    "gcn_alert = gcn_alert.filter(\"observatory != 'LVK'\")"
   ]
  },
  {
   "cell_type": "code",
   "execution_count": 70,
   "metadata": {},
   "outputs": [
    {
     "data": {
      "text/plain": [
       "624"
      ]
     },
     "execution_count": 70,
     "metadata": {},
     "output_type": "execute_result"
    }
   ],
   "source": [
    "gcn_alert.count()"
   ]
  },
  {
   "cell_type": "code",
   "execution_count": 3,
   "metadata": {},
   "outputs": [],
   "source": [
    "# gcn_alert = gcn_alert.fillna({\"gcn_status\": \"initial\"}).drop(\"year\").drop(\"month\").drop(\"day\")"
   ]
  },
  {
   "cell_type": "code",
   "execution_count": 4,
   "metadata": {},
   "outputs": [],
   "source": [
    "# timecol = \"triggerTimejd\"\n",
    "# converter = lambda x: convert_to_datetime(x)  # noqa: E731\n",
    "# if \"timestamp\" not in gcn_alert.columns:\n",
    "#     gcn_alert = gcn_alert.withColumn(\"timestamp\", converter(gcn_alert[timecol]))\n",
    "\n",
    "# if \"year\" not in gcn_alert.columns:\n",
    "#     gcn_alert = gcn_alert.withColumn(\"year\", F.date_format(\"timestamp\", \"yyyy\"))\n",
    "\n",
    "# if \"month\" not in gcn_alert.columns:\n",
    "#     gcn_alert = gcn_alert.withColumn(\"month\", F.date_format(\"timestamp\", \"MM\"))\n",
    "\n",
    "# if \"day\" not in gcn_alert.columns:\n",
    "#     gcn_alert = gcn_alert.withColumn(\"day\", F.date_format(\"timestamp\", \"dd\"))"
   ]
  },
  {
   "cell_type": "code",
   "execution_count": 5,
   "metadata": {},
   "outputs": [],
   "source": [
    "# gcn_alert.write.mode(\"append\").partitionBy(\"year\", \"month\", \"day\").parquet(\n",
    "#     \"gcn_storage_fix\"\n",
    "# )"
   ]
  },
  {
   "cell_type": "code",
   "execution_count": 6,
   "metadata": {},
   "outputs": [],
   "source": [
    "ztf_path = \"/user/julien.peloton\"\n",
    "ztf_alert = (\n",
    "    spark.read.format(\"parquet\")\n",
    "    .option(\"mergeSchema\", True)\n",
    "    .load(\n",
    "        ztf_path\n",
    "        + f\"/archive/science/year=2023/\"\n",
    "    )\n",
    "    .drop(\"year\").drop(\"month\").drop(\"day\")\n",
    ")"
   ]
  },
  {
   "cell_type": "code",
   "execution_count": 7,
   "metadata": {},
   "outputs": [],
   "source": [
    "ztf_dataframe = ztf_alert.drop(\n",
    "    \"candid\",\n",
    "    \"schemavsn\",\n",
    "    \"publisher\",\n",
    "    \"cutoutScience\",\n",
    "    \"cutoutTemplate\",\n",
    "    \"cutoutDifference\",\n",
    "    \"month\", \"day\"\n",
    ")\n",
    "\n",
    "ztf_dataframe = ztf_grb_filter(\n",
    "    ztf_dataframe, 5, 2, 0.5, 2\n",
    ")\n",
    "\n",
    "# compute pixels for ztf alerts\n",
    "ztf_dataframe = ztf_dataframe.withColumn(\n",
    "    \"hpix\",\n",
    "    ang2pix(ztf_dataframe.candidate.ra, ztf_dataframe.candidate.dec, F.lit(32)),\n",
    ")\n",
    "\n",
    "ztf_dataframe = ztf_dataframe.withColumn(\"ztf_ra\", col(\"candidate.ra\")).withColumn(\n",
    "    \"ztf_dec\", col(\"candidate.dec\")\n",
    ")"
   ]
  },
  {
   "cell_type": "code",
   "execution_count": 8,
   "metadata": {},
   "outputs": [],
   "source": [
    "gcn_dataframe = gcn_alert.withColumn(\n",
    "    \"hpix_circle\",\n",
    "    get_pixels(gcn_alert.observatory, gcn_alert.raw_event, F.lit(32)),\n",
    ")\n",
    "\n",
    "# remove the gw skymap to save memory before the join\n",
    "gcn_dataframe = gcn_dataframe.withColumn(\n",
    "    \"raw_event\",\n",
    "    remove_skymap(gcn_dataframe.observatory, gcn_dataframe.raw_event),\n",
    ")\n",
    "\n",
    "gcn_dataframe = gcn_dataframe.withColumn(\"hpix\", explode(\"hpix_circle\"))\n",
    "\n",
    "gcn_dataframe = gcn_dataframe.withColumnRenamed(\"ra\", \"gcn_ra\").withColumnRenamed(\n",
    "    \"dec\", \"gcn_dec\"\n",
    ")"
   ]
  },
  {
   "cell_type": "code",
   "execution_count": 9,
   "metadata": {},
   "outputs": [],
   "source": [
    "join_condition = [\n",
    "    ztf_dataframe.hpix == gcn_dataframe.hpix,\n",
    "    ztf_dataframe.candidate.jdstarthist > gcn_dataframe.triggerTimejd,\n",
    "    ztf_dataframe.candidate.jd - gcn_dataframe.triggerTimejd < 20\n",
    "]\n",
    "df_join_mm = gcn_dataframe.join(ztf_dataframe, join_condition, \"inner\")"
   ]
  },
  {
   "cell_type": "code",
   "execution_count": 10,
   "metadata": {
    "scrolled": false
   },
   "outputs": [],
   "source": [
    "df_grb = df_join_mm# .repartition(10000)\n",
    "# df_grb.count()"
   ]
  },
  {
   "cell_type": "code",
   "execution_count": 11,
   "metadata": {
    "scrolled": false
   },
   "outputs": [],
   "source": [
    "df_grb = concat_col(df_grb, \"magpsf\")\n",
    "df_grb = concat_col(df_grb, \"diffmaglim\")\n",
    "df_grb = concat_col(df_grb, \"jd\")\n",
    "df_grb = concat_col(df_grb, \"fid\")\n",
    "\n",
    "df_grb = df_grb.withColumn(\n",
    "    \"c_rate\",\n",
    "    compute_rate(\n",
    "        df_grb[\"candidate.magpsf\"],\n",
    "        df_grb[\"candidate.jdstarthist\"],\n",
    "        df_grb[\"candidate.jd\"],\n",
    "        df_grb[\"candidate.fid\"],\n",
    "        df_grb[\"cmagpsf\"],\n",
    "        df_grb[\"cdiffmaglim\"],\n",
    "        df_grb[\"cjd\"],\n",
    "        df_grb[\"cfid\"],\n",
    "    ),\n",
    ")\n",
    "\n",
    "df_grb = format_rate_results(df_grb, \"c_rate\")\n",
    "\n",
    "# TODO : do something better with satellites\n",
    "# df_grb = add_tracklet_information(df_grb)\n",
    "\n",
    "df_grb = df_grb.withColumn(\"tracklet\", F.lit(\"\"))\n",
    "\n",
    "df_grb = df_grb.withColumn(\n",
    "    \"fink_class\",\n",
    "    extract_fink_classification(\n",
    "        df_grb[\"cdsxmatch\"],\n",
    "        df_grb[\"roid\"],\n",
    "        df_grb[\"mulens\"],\n",
    "        df_grb[\"snn_snia_vs_nonia\"],\n",
    "        df_grb[\"snn_sn_vs_all\"],\n",
    "        df_grb[\"rf_snia_vs_nonia\"],\n",
    "        df_grb[\"candidate.ndethist\"],\n",
    "        df_grb[\"candidate.drb\"],\n",
    "        df_grb[\"candidate.classtar\"],\n",
    "        df_grb[\"candidate.jd\"],\n",
    "        df_grb[\"candidate.jdstarthist\"],\n",
    "        df_grb[\"rf_kn_vs_nonkn\"],\n",
    "        df_grb[\"tracklet\"],\n",
    "    ),\n",
    ")\n",
    "\n",
    "hdfs_adress = \"134.158.75.222\"\n",
    "last_time = \"20230101\"\n",
    "end_time = \"20231231\"\n",
    "\n",
    "# refine the association and compute the serendipitous probability\n",
    "df_grb = df_grb.withColumn(\n",
    "    \"p_assoc\",\n",
    "    get_association_proba(\n",
    "        df_grb[\"observatory\"],\n",
    "        df_grb[\"raw_event\"],\n",
    "        df_grb[\"ztf_ra\"],\n",
    "        df_grb[\"ztf_dec\"],\n",
    "        df_grb[\"start_vartime\"],\n",
    "        F.lit(hdfs_adress),\n",
    "        df_grb[\"gcn_status\"],\n",
    "        F.lit(gcn_path)\n",
    "    ),\n",
    ")\n",
    "\n",
    "# select only relevant columns\n",
    "cols_to_remove = [\n",
    "    \"candidate\",\n",
    "    \"prv_candidates\",\n",
    "    \"timestamp\",\n",
    "    \"hpix\",\n",
    "    \"hpix_circle\",\n",
    "    \"index\",\n",
    "    \"fink_broker_version\",\n",
    "    \"fink_science_version\",\n",
    "    \"cmagpsf\",\n",
    "    \"cdiffmaglim\",\n",
    "    \"cjd\",\n",
    "    \"cfid\",\n",
    "    \"tracklet\",\n",
    "    \"ivorn\",\n",
    "    \"hpix_circle\",\n",
    "    \"triggerTimejd\",\n",
    "]\n",
    "cols_fink = [i for i in df_grb.columns if i not in cols_to_remove]\n",
    "cols_extra = [\n",
    "    \"candidate.candid\",\n",
    "    \"candidate.fid\",\n",
    "    \"candidate.jdstarthist\",\n",
    "    \"candidate.rb\",\n",
    "    \"candidate.jd\",\n",
    "    \"candidate.magpsf\",\n",
    "    \"candidate.sigmapsf\"\n",
    "]\n",
    "df_grb = df_grb.select(cols_fink + cols_extra) #.filter(\"p_assoc != -1.0\")\n",
    "df_grb = df_grb.withColumnRenamed(\"err_arcmin\", \"gcn_loc_error\")"
   ]
  },
  {
   "cell_type": "code",
   "execution_count": 12,
   "metadata": {},
   "outputs": [],
   "source": [
    "timecol = \"jd\"\n",
    "converter = lambda x: convert_to_datetime(x)  # noqa: E731\n",
    "if \"timestamp\" not in df_grb.columns:\n",
    "    df_grb = df_grb.withColumn(\"timestamp\", converter(df_grb[timecol]))\n",
    "\n",
    "if \"year\" not in df_grb.columns:\n",
    "    df_grb = df_grb.withColumn(\"year\", F.date_format(\"timestamp\", \"yyyy\"))\n",
    "\n",
    "if \"month\" not in df_grb.columns:\n",
    "    df_grb = df_grb.withColumn(\"month\", F.date_format(\"timestamp\", \"MM\"))\n",
    "\n",
    "if \"day\" not in df_grb.columns:\n",
    "    df_grb = df_grb.withColumn(\"day\", F.date_format(\"timestamp\", \"dd\"))"
   ]
  },
  {
   "cell_type": "code",
   "execution_count": 13,
   "metadata": {},
   "outputs": [],
   "source": [
    "df_join = df_grb\n",
    "\n",
    "df_join = df_join.withColumn(\n",
    "    \"is_grb_bronze\",\n",
    "    f_grb_bronze_events(\n",
    "        df_join[\"fink_class\"], df_join[\"observatory\"], df_join[\"rb\"]\n",
    "    ),\n",
    ")\n",
    "\n",
    "df_join = df_join.withColumn(\n",
    "    \"is_grb_silver\",\n",
    "    f_grb_silver_events(\n",
    "        df_join[\"fink_class\"],\n",
    "        df_join[\"observatory\"],\n",
    "        df_join[\"rb\"],\n",
    "        df_join[\"p_assoc\"],\n",
    "    ),\n",
    ")\n",
    "\n",
    "df_join = df_join.withColumn(\n",
    "    \"is_grb_gold\",\n",
    "    f_grb_gold_events(\n",
    "        df_join[\"fink_class\"],\n",
    "        df_join[\"observatory\"],\n",
    "        df_join[\"rb\"],\n",
    "        df_join[\"gcn_loc_error\"],\n",
    "        df_join[\"p_assoc\"],\n",
    "        df_join[\"rate\"]\n",
    "    ),\n",
    ")\n",
    "\n",
    "df_join = df_join.withColumn(\n",
    "    \"is_gw_bronze\",\n",
    "    f_gw_bronze_events(\n",
    "        df_join[\"fink_class\"], df_join[\"observatory\"], df_join[\"rb\"]\n",
    "    ),\n",
    ")"
   ]
  },
  {
   "cell_type": "code",
   "execution_count": 14,
   "metadata": {
    "scrolled": true
   },
   "outputs": [
    {
     "name": "stdout",
     "output_type": "stream",
     "text": [
      "root\n",
      " |-- observatory: string (nullable = true)\n",
      " |-- instrument: string (nullable = true)\n",
      " |-- event: string (nullable = true)\n",
      " |-- triggerId: string (nullable = true)\n",
      " |-- gcn_ra: double (nullable = true)\n",
      " |-- gcn_dec: double (nullable = true)\n",
      " |-- gcn_loc_error: double (nullable = true)\n",
      " |-- ackTime: timestamp (nullable = true)\n",
      " |-- triggerTimeUTC: timestamp (nullable = true)\n",
      " |-- raw_event: string (nullable = true)\n",
      " |-- gcn_status: string (nullable = true)\n",
      " |-- objectId: string (nullable = true)\n",
      " |-- cdsxmatch: string (nullable = true)\n",
      " |-- DR3Name: string (nullable = true)\n",
      " |-- Plx: float (nullable = true)\n",
      " |-- e_Plx: float (nullable = true)\n",
      " |-- gcvs: string (nullable = true)\n",
      " |-- vsx: string (nullable = true)\n",
      " |-- roid: integer (nullable = true)\n",
      " |-- rf_snia_vs_nonia: double (nullable = true)\n",
      " |-- snn_snia_vs_nonia: double (nullable = true)\n",
      " |-- snn_sn_vs_all: double (nullable = true)\n",
      " |-- mulens: double (nullable = true)\n",
      " |-- nalerthist: integer (nullable = true)\n",
      " |-- rf_kn_vs_nonkn: double (nullable = true)\n",
      " |-- x3hsp: string (nullable = true)\n",
      " |-- x4lac: string (nullable = true)\n",
      " |-- mangrove: map (nullable = true)\n",
      " |    |-- key: string\n",
      " |    |-- value: string (valueContainsNull = true)\n",
      " |-- t2: map (nullable = true)\n",
      " |    |-- key: string\n",
      " |    |-- value: float (valueContainsNull = true)\n",
      " |-- anomaly_score: double (nullable = true)\n",
      " |-- lc_features_g: struct (nullable = true)\n",
      " |    |-- mean: double (nullable = true)\n",
      " |    |-- weighted_mean: double (nullable = true)\n",
      " |    |-- standard_deviation: double (nullable = true)\n",
      " |    |-- median: double (nullable = true)\n",
      " |    |-- amplitude: double (nullable = true)\n",
      " |    |-- beyond_1_std: double (nullable = true)\n",
      " |    |-- cusum: double (nullable = true)\n",
      " |    |-- inter_percentile_range_10: double (nullable = true)\n",
      " |    |-- kurtosis: double (nullable = true)\n",
      " |    |-- linear_trend: double (nullable = true)\n",
      " |    |-- linear_trend_sigma: double (nullable = true)\n",
      " |    |-- linear_trend_noise: double (nullable = true)\n",
      " |    |-- linear_fit_slope: double (nullable = true)\n",
      " |    |-- linear_fit_slope_sigma: double (nullable = true)\n",
      " |    |-- linear_fit_reduced_chi2: double (nullable = true)\n",
      " |    |-- magnitude_percentage_ratio_40_5: double (nullable = true)\n",
      " |    |-- magnitude_percentage_ratio_20_10: double (nullable = true)\n",
      " |    |-- maximum_slope: double (nullable = true)\n",
      " |    |-- median_absolute_deviation: double (nullable = true)\n",
      " |    |-- median_buffer_range_percentage_10: double (nullable = true)\n",
      " |    |-- percent_amplitude: double (nullable = true)\n",
      " |    |-- mean_variance: double (nullable = true)\n",
      " |    |-- anderson_darling_normal: double (nullable = true)\n",
      " |    |-- chi2: double (nullable = true)\n",
      " |    |-- skew: double (nullable = true)\n",
      " |    |-- stetson_K: double (nullable = true)\n",
      " |-- lc_features_r: struct (nullable = true)\n",
      " |    |-- mean: double (nullable = true)\n",
      " |    |-- weighted_mean: double (nullable = true)\n",
      " |    |-- standard_deviation: double (nullable = true)\n",
      " |    |-- median: double (nullable = true)\n",
      " |    |-- amplitude: double (nullable = true)\n",
      " |    |-- beyond_1_std: double (nullable = true)\n",
      " |    |-- cusum: double (nullable = true)\n",
      " |    |-- inter_percentile_range_10: double (nullable = true)\n",
      " |    |-- kurtosis: double (nullable = true)\n",
      " |    |-- linear_trend: double (nullable = true)\n",
      " |    |-- linear_trend_sigma: double (nullable = true)\n",
      " |    |-- linear_trend_noise: double (nullable = true)\n",
      " |    |-- linear_fit_slope: double (nullable = true)\n",
      " |    |-- linear_fit_slope_sigma: double (nullable = true)\n",
      " |    |-- linear_fit_reduced_chi2: double (nullable = true)\n",
      " |    |-- magnitude_percentage_ratio_40_5: double (nullable = true)\n",
      " |    |-- magnitude_percentage_ratio_20_10: double (nullable = true)\n",
      " |    |-- maximum_slope: double (nullable = true)\n",
      " |    |-- median_absolute_deviation: double (nullable = true)\n",
      " |    |-- median_buffer_range_percentage_10: double (nullable = true)\n",
      " |    |-- percent_amplitude: double (nullable = true)\n",
      " |    |-- mean_variance: double (nullable = true)\n",
      " |    |-- anderson_darling_normal: double (nullable = true)\n",
      " |    |-- chi2: double (nullable = true)\n",
      " |    |-- skew: double (nullable = true)\n",
      " |    |-- stetson_K: double (nullable = true)\n",
      " |-- ztf_ra: double (nullable = true)\n",
      " |-- ztf_dec: double (nullable = true)\n",
      " |-- delta_mag: double (nullable = true)\n",
      " |-- rate: double (nullable = true)\n",
      " |-- from_upper: double (nullable = true)\n",
      " |-- start_vartime: double (nullable = true)\n",
      " |-- diff_vartime: double (nullable = true)\n",
      " |-- fink_class: string (nullable = true)\n",
      " |-- p_assoc: double (nullable = true)\n",
      " |-- candid: long (nullable = true)\n",
      " |-- fid: integer (nullable = true)\n",
      " |-- jdstarthist: double (nullable = true)\n",
      " |-- rb: float (nullable = true)\n",
      " |-- jd: double (nullable = true)\n",
      " |-- magpsf: float (nullable = true)\n",
      " |-- sigmapsf: float (nullable = true)\n",
      " |-- timestamp: timestamp (nullable = true)\n",
      " |-- year: string (nullable = true)\n",
      " |-- month: string (nullable = true)\n",
      " |-- day: string (nullable = true)\n",
      " |-- is_grb_bronze: boolean (nullable = true)\n",
      " |-- is_grb_silver: boolean (nullable = true)\n",
      " |-- is_grb_gold: boolean (nullable = true)\n",
      " |-- is_gw_bronze: boolean (nullable = true)\n",
      "\n"
     ]
    }
   ],
   "source": [
    "df_join.printSchema()"
   ]
  },
  {
   "cell_type": "code",
   "execution_count": 82,
   "metadata": {},
   "outputs": [],
   "source": [
    "# df_join.count()"
   ]
  },
  {
   "cell_type": "code",
   "execution_count": null,
   "metadata": {
    "scrolled": false
   },
   "outputs": [],
   "source": [
    "write_path = \"ztf_x_gcn_data\"\n",
    "# grbxztf_write_path = write_path + \"/offline\"\n",
    "\n",
    "df_join.write.partitionBy(\"year\", \"month\", \"day\").parquet(\n",
    "    write_path\n",
    ")"
   ]
  },
  {
   "cell_type": "code",
   "execution_count": null,
   "metadata": {},
   "outputs": [],
   "source": []
  },
  {
   "cell_type": "code",
   "execution_count": null,
   "metadata": {},
   "outputs": [],
   "source": []
  },
  {
   "cell_type": "code",
   "execution_count": null,
   "metadata": {},
   "outputs": [],
   "source": [
    "from astropy.time import Time"
   ]
  },
  {
   "cell_type": "code",
   "execution_count": null,
   "metadata": {},
   "outputs": [],
   "source": [
    "trigId = []\n",
    "\n",
    "def gcn_from_hdfs(client, root_path, triggerId, triggerTime, gcn_status):\n",
    "    path_date = os.path.join(\n",
    "        root_path,\n",
    "        f\"year={triggerTime.year:04d}/month={triggerTime.month:02d}/day={triggerTime.day:02d}\",\n",
    "    )\n",
    "    for p, _, files in client.walk(path_date):\n",
    "        for f in np.sort(files):\n",
    "            trigId.append(f.split(\"_\")[0])\n",
    "            path_to_load = os.path.join(p, f)\n",
    "            with client.read(path_to_load) as reader:\n",
    "                content = reader.read()\n",
    "                pdf = pd.read_parquet(io.BytesIO(content))\n",
    "                if triggerId in pdf[\"triggerId\"].values and gcn_status in pdf[\"gcn_status\"].values:\n",
    "                    return pdf[\n",
    "                        (pdf[\"triggerId\"] == triggerId)\n",
    "                        & (pdf[\"gcn_status\"] == gcn_status)\n",
    "                    ]\n",
    "\n",
    "    raise FileNotFoundError(\n",
    "        \"File not found at these locations {} with triggerId = {} and gcn_status = {}\".format(\n",
    "            path_date, triggerId, gcn_status\n",
    "        )\n",
    "    )"
   ]
  },
  {
   "cell_type": "code",
   "execution_count": null,
   "metadata": {},
   "outputs": [],
   "source": [
    "from hdfs import InsecureClient\n",
    "import json\n",
    "hdfs_client = InsecureClient(f\"http://{hdfs_adress}:50070\")"
   ]
  },
  {
   "cell_type": "code",
   "execution_count": null,
   "metadata": {
    "scrolled": false
   },
   "outputs": [],
   "source": [
    "gcn_res = gcn_from_hdfs(\n",
    "    hdfs_client, \n",
    "    \"/user/julien.peloton/fink_mm/gcn_storage/raw\", \n",
    "    \"S231005z\", \n",
    "    Time(\"2023-10-05\").to_datetime(), \n",
    "    \"initial\"\n",
    ")"
   ]
  },
  {
   "cell_type": "code",
   "execution_count": null,
   "metadata": {
    "scrolled": false
   },
   "outputs": [],
   "source": [
    "for tr, g_stat in local_join[[\"triggerId\", \"gcn_status\"]].values:\n",
    "    print(tr)\n",
    "    print(g_stat)\n",
    "    gcn_res = gcn_from_hdfs(\n",
    "        hdfs_client, \n",
    "        \"/user/julien.peloton/fink_mm/gcn_storage/raw\", \n",
    "        tr, \n",
    "        Time(\"2023-10-05\").to_datetime(), \n",
    "        g_stat\n",
    "    )\n",
    "    print(gcn_res)\n",
    "    skymap_str = json.loads(gcn_res[\"raw_event\"].iloc[0])[\"event\"][\"skymap\"]\n",
    "    print()"
   ]
  },
  {
   "cell_type": "code",
   "execution_count": null,
   "metadata": {},
   "outputs": [],
   "source": []
  },
  {
   "cell_type": "code",
   "execution_count": null,
   "metadata": {},
   "outputs": [],
   "source": [
    "skymap_str"
   ]
  },
  {
   "cell_type": "code",
   "execution_count": null,
   "metadata": {},
   "outputs": [],
   "source": []
  },
  {
   "cell_type": "code",
   "execution_count": null,
   "metadata": {},
   "outputs": [],
   "source": []
  },
  {
   "cell_type": "code",
   "execution_count": null,
   "metadata": {},
   "outputs": [],
   "source": []
  },
  {
   "cell_type": "code",
   "execution_count": null,
   "metadata": {},
   "outputs": [],
   "source": [
    "from astropy.time import Time\n",
    "\n",
    "\n",
    "jd_test = Time(2460183.9071875, format=\"jd\")\n",
    "jd_test.to_datetime()."
   ]
  },
  {
   "cell_type": "code",
   "execution_count": null,
   "metadata": {},
   "outputs": [],
   "source": [
    "gcn_path = \"/user/julien.peloton/fink_mm/gcn_storage/raw/year=2023/month=09\"\n",
    "\n",
    "gcn_alert = spark.read.format(\"parquet\").option(\"mergeSchema\", True).load(gcn_path)"
   ]
  },
  {
   "cell_type": "code",
   "execution_count": null,
   "metadata": {},
   "outputs": [],
   "source": [
    "gcn_local = gcn_alert.toPandas()"
   ]
  },
  {
   "cell_type": "code",
   "execution_count": null,
   "metadata": {},
   "outputs": [],
   "source": [
    "obs = get_observatory(gcn_local[\"observatory\"].values[0], gcn_local[\"raw_event\"].values[0])"
   ]
  },
  {
   "cell_type": "code",
   "execution_count": null,
   "metadata": {},
   "outputs": [],
   "source": [
    "t_obs = Time(obs.get_trigger_time()[1], format=\"jd\").to_datetime()"
   ]
  },
  {
   "cell_type": "code",
   "execution_count": null,
   "metadata": {},
   "outputs": [],
   "source": [
    "root = \"/user/julien.peloton/fink_mm/gcn_storage/raw\"\n",
    "path_date = os.path.join(\n",
    "    root,\n",
    "    f\"year={t_obs.year:04d}/month={t_obs.month:02d}/day={t_obs.day:02d}\",\n",
    ")\n",
    "for p, _, files in hdfs_client.walk(path_date):\n",
    "    print(\"----\")\n",
    "    print(p)\n",
    "    print()\n",
    "    print(r)\n",
    "    print()\n",
    "    print(l)\n",
    "    print(\"----\")"
   ]
  },
  {
   "cell_type": "code",
   "execution_count": null,
   "metadata": {},
   "outputs": [],
   "source": []
  },
  {
   "cell_type": "code",
   "execution_count": null,
   "metadata": {},
   "outputs": [],
   "source": [
    "gcn_from_hdfs(hdfs_client, \"S230923bk\", t_obs, \"initial\")"
   ]
  },
  {
   "cell_type": "code",
   "execution_count": null,
   "metadata": {},
   "outputs": [],
   "source": []
  },
  {
   "cell_type": "code",
   "execution_count": null,
   "metadata": {},
   "outputs": [],
   "source": []
  },
  {
   "cell_type": "code",
   "execution_count": null,
   "metadata": {},
   "outputs": [],
   "source": [
    "from hdfs import InsecureClient\n",
    "hdfs_client = InsecureClient(\n",
    "                f\"http://{hdfs_adress}:50070\", user=\"hdfs\", root=\"/user/julien.peloton\"\n",
    "            )"
   ]
  },
  {
   "cell_type": "code",
   "execution_count": null,
   "metadata": {
    "scrolled": true
   },
   "outputs": [],
   "source": [
    "gcn_from_hdfs(hdfs_client, \"714809315\", \"initial\", last_time, end_time)"
   ]
  },
  {
   "cell_type": "code",
   "execution_count": null,
   "metadata": {},
   "outputs": [],
   "source": [
    "last_time"
   ]
  },
  {
   "cell_type": "code",
   "execution_count": null,
   "metadata": {
    "scrolled": true
   },
   "outputs": [],
   "source": [
    "for p, r, l in hdfs_client.walk(\"/user/julien.peloton/fink_mm/gcn_storage/raw\"):\n",
    "    print(\"----\")\n",
    "    print(p)\n",
    "    print()\n",
    "    print(r)\n",
    "    print()\n",
    "    print(l)\n",
    "    print(\"----\")"
   ]
  },
  {
   "cell_type": "code",
   "execution_count": null,
   "metadata": {},
   "outputs": [],
   "source": [
    "hdfs_client.parts(\"/user/julien.peloton/fink_mm/gcn_storage/raw\")"
   ]
  },
  {
   "cell_type": "code",
   "execution_count": null,
   "metadata": {},
   "outputs": [],
   "source": []
  },
  {
   "cell_type": "code",
   "execution_count": null,
   "metadata": {},
   "outputs": [],
   "source": []
  },
  {
   "cell_type": "code",
   "execution_count": null,
   "metadata": {},
   "outputs": [],
   "source": []
  },
  {
   "cell_type": "code",
   "execution_count": null,
   "metadata": {},
   "outputs": [],
   "source": [
    "import signal\n",
    "import pyarrow as pa\n",
    "import pyarrow.parquet as pq\n",
    "import os\n",
    "import time\n",
    "import pandas as pd\n",
    "\n",
    "from gcn_kafka import Consumer\n",
    "import logging\n",
    "\n",
    "from pyarrow.fs import FileSystem\n",
    "\n",
    "import fink_mm.gcn_stream.gcn_reader as gr\n",
    "from fink_mm.init import get_config, init_logging, return_verbose_level\n",
    "from fink_mm.utils.fun_utils import get_hdfs_connector\n",
    "from fink_mm.observatory import TOPICS, TOPICS_FORMAT\n",
    "from fink_client.scripts.fink_datatransfer import my_assign\n",
    "from astropy.time import Time"
   ]
  },
  {
   "cell_type": "code",
   "execution_count": null,
   "metadata": {},
   "outputs": [],
   "source": []
  },
  {
   "cell_type": "code",
   "execution_count": null,
   "metadata": {},
   "outputs": [],
   "source": [
    "gcn_fs = get_hdfs_connector(hdfs_adress, 8020, \"roman.le-montagner\")"
   ]
  },
  {
   "cell_type": "code",
   "execution_count": null,
   "metadata": {},
   "outputs": [],
   "source": [
    "table = pa.Table.from_pandas(gcn_res)\n",
    "\n",
    "pq.write_to_dataset(\n",
    "    table,\n",
    "    root_path=\"toto_gcn\",\n",
    "    basename_template=\"{}_{}_{}\".format(\n",
    "        \"toto\", time.time(), \"{i}\"\n",
    "    ),\n",
    "    existing_data_behavior=\"overwrite_or_ignore\",\n",
    "    filesystem=gcn_fs,\n",
    ")"
   ]
  },
  {
   "cell_type": "code",
   "execution_count": null,
   "metadata": {},
   "outputs": [],
   "source": []
  }
 ],
 "metadata": {
  "kernelspec": {
   "display_name": "Python 3",
   "language": "python",
   "name": "python3"
  },
  "language_info": {
   "codemirror_mode": {
    "name": "ipython",
    "version": 3
   },
   "file_extension": ".py",
   "mimetype": "text/x-python",
   "name": "python",
   "nbconvert_exporter": "python",
   "pygments_lexer": "ipython3",
   "version": "3.7.6"
  }
 },
 "nbformat": 4,
 "nbformat_minor": 4
}
